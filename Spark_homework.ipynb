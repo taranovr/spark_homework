{
 "cells": [
  {
   "cell_type": "code",
   "execution_count": 1,
   "id": "271a4129",
   "metadata": {},
   "outputs": [],
   "source": [
    "import pyspark\n",
    "from pyspark.sql import SQLContext\n",
    "from pyspark.sql.functions import *\n",
    "from pyspark.sql.types import *\n",
    "from pyspark.sql.window import *\n",
    "from pathlib import Path\n"
   ]
  },
  {
   "cell_type": "code",
   "execution_count": 2,
   "id": "ec3e31ad",
   "metadata": {},
   "outputs": [
    {
     "name": "stderr",
     "output_type": "stream",
     "text": [
      "21/08/09 08:07:05 WARN NativeCodeLoader: Unable to load native-hadoop library for your platform... using builtin-java classes where applicable\n",
      "Using Spark's default log4j profile: org/apache/spark/log4j-defaults.properties\n",
      "Setting default log level to \"WARN\".\n",
      "To adjust logging level use sc.setLogLevel(newLevel). For SparkR, use setLogLevel(newLevel).\n"
     ]
    },
    {
     "data": {
      "text/html": [
       "\n",
       "        <div>\n",
       "            <p><b>SparkContext</b></p>\n",
       "\n",
       "            <p><a href=\"http://5a326cb45852:4040\">Spark UI</a></p>\n",
       "\n",
       "            <dl>\n",
       "              <dt>Version</dt>\n",
       "                <dd><code>v3.0.0</code></dd>\n",
       "              <dt>Master</dt>\n",
       "                <dd><code>local[*]</code></dd>\n",
       "              <dt>AppName</dt>\n",
       "                <dd><code>Homework</code></dd>\n",
       "            </dl>\n",
       "        </div>\n",
       "        "
      ],
      "text/plain": [
       "<SparkContext master=local[*] appName=Homework>"
      ]
     },
     "execution_count": 2,
     "metadata": {},
     "output_type": "execute_result"
    }
   ],
   "source": [
    "sc = pyspark.SparkContext(appName=\"Homework\")\n",
    "sq = SQLContext(sc)\n",
    "\n",
    "sc"
   ]
  },
  {
   "cell_type": "code",
   "execution_count": 3,
   "id": "f558dbf6",
   "metadata": {},
   "outputs": [],
   "source": [
    "# sc.stop() "
   ]
  },
  {
   "cell_type": "markdown",
   "id": "e8195fca",
   "metadata": {},
   "source": [
    "#### `Load csv files to spark, using option header=True`"
   ]
  },
  {
   "cell_type": "code",
   "execution_count": 4,
   "id": "140c6884",
   "metadata": {},
   "outputs": [
    {
     "name": "stderr",
     "output_type": "stream",
     "text": [
      "                                                                                \r"
     ]
    }
   ],
   "source": [
    "def read_dataframes(path = 'homework'):\n",
    "    path = Path(path) \n",
    "    \n",
    "    offense_codes_df = sq.read.option(\"header\", \"true\")\\\n",
    "                         .csv(str(path / \"offense_codes.csv\"))\n",
    "    \n",
    "    crime_df = sq.read.option(\"header\", \"true\")\\\n",
    "                 .csv(str(path / \"crime.csv\"))\n",
    "    \n",
    "    return offense_codes_df, crime_df\n",
    "\n",
    "offense_codes_df, crime_df = read_dataframes()\n",
    "\n",
    "offense_codes_df = offense_codes_df.withColumn(\"CODE\", offense_codes_df[\"CODE\"].cast(IntegerType()))\n",
    "crime_df = crime_df.withColumn(\"OFFENSE_CODE\", crime_df[\"OFFENSE_CODE\"].cast(IntegerType()))"
   ]
  },
  {
   "cell_type": "code",
   "execution_count": 5,
   "id": "08c7ae67",
   "metadata": {},
   "outputs": [
    {
     "name": "stdout",
     "output_type": "stream",
     "text": [
      "Before deleting duplicates 576 rows left\n"
     ]
    }
   ],
   "source": [
    "print(\"Before deleting duplicates {0} rows left\".format(offense_codes_df.count()))"
   ]
  },
  {
   "cell_type": "code",
   "execution_count": 6,
   "id": "6ba88ac6",
   "metadata": {},
   "outputs": [
    {
     "name": "stderr",
     "output_type": "stream",
     "text": [
      "                                                                                \r"
     ]
    }
   ],
   "source": [
    "of_pd = offense_codes_df.toPandas()\n",
    "crime_pd = crime_df.toPandas()"
   ]
  },
  {
   "cell_type": "code",
   "execution_count": 7,
   "id": "3ed457b6",
   "metadata": {},
   "outputs": [
    {
     "data": {
      "text/html": [
       "<div>\n",
       "<style scoped>\n",
       "    .dataframe tbody tr th:only-of-type {\n",
       "        vertical-align: middle;\n",
       "    }\n",
       "\n",
       "    .dataframe tbody tr th {\n",
       "        vertical-align: top;\n",
       "    }\n",
       "\n",
       "    .dataframe thead th {\n",
       "        text-align: right;\n",
       "    }\n",
       "</style>\n",
       "<table border=\"1\" class=\"dataframe\">\n",
       "  <thead>\n",
       "    <tr style=\"text-align: right;\">\n",
       "      <th></th>\n",
       "      <th>CODE</th>\n",
       "      <th>NAME</th>\n",
       "    </tr>\n",
       "  </thead>\n",
       "  <tbody>\n",
       "    <tr>\n",
       "      <th>0</th>\n",
       "      <td>612</td>\n",
       "      <td>LARCENY PURSE SNATCH - NO FORCE</td>\n",
       "    </tr>\n",
       "    <tr>\n",
       "      <th>1</th>\n",
       "      <td>613</td>\n",
       "      <td>LARCENY SHOPLIFTING</td>\n",
       "    </tr>\n",
       "  </tbody>\n",
       "</table>\n",
       "</div>"
      ],
      "text/plain": [
       "   CODE                              NAME\n",
       "0   612  LARCENY PURSE SNATCH - NO FORCE \n",
       "1   613               LARCENY SHOPLIFTING"
      ]
     },
     "execution_count": 7,
     "metadata": {},
     "output_type": "execute_result"
    }
   ],
   "source": [
    "of_pd.head(2) "
   ]
  },
  {
   "cell_type": "code",
   "execution_count": 8,
   "id": "3a40ef1c",
   "metadata": {},
   "outputs": [
    {
     "data": {
      "text/html": [
       "<div>\n",
       "<style scoped>\n",
       "    .dataframe tbody tr th:only-of-type {\n",
       "        vertical-align: middle;\n",
       "    }\n",
       "\n",
       "    .dataframe tbody tr th {\n",
       "        vertical-align: top;\n",
       "    }\n",
       "\n",
       "    .dataframe thead th {\n",
       "        text-align: right;\n",
       "    }\n",
       "</style>\n",
       "<table border=\"1\" class=\"dataframe\">\n",
       "  <thead>\n",
       "    <tr style=\"text-align: right;\">\n",
       "      <th></th>\n",
       "      <th>INCIDENT_NUMBER</th>\n",
       "      <th>OFFENSE_CODE</th>\n",
       "      <th>OFFENSE_CODE_GROUP</th>\n",
       "      <th>OFFENSE_DESCRIPTION</th>\n",
       "      <th>DISTRICT</th>\n",
       "      <th>REPORTING_AREA</th>\n",
       "      <th>SHOOTING</th>\n",
       "      <th>OCCURRED_ON_DATE</th>\n",
       "      <th>YEAR</th>\n",
       "      <th>MONTH</th>\n",
       "      <th>DAY_OF_WEEK</th>\n",
       "      <th>HOUR</th>\n",
       "      <th>UCR_PART</th>\n",
       "      <th>STREET</th>\n",
       "      <th>Lat</th>\n",
       "      <th>Long</th>\n",
       "      <th>Location</th>\n",
       "    </tr>\n",
       "  </thead>\n",
       "  <tbody>\n",
       "    <tr>\n",
       "      <th>0</th>\n",
       "      <td>I182070945</td>\n",
       "      <td>619</td>\n",
       "      <td>Larceny</td>\n",
       "      <td>LARCENY ALL OTHERS</td>\n",
       "      <td>D14</td>\n",
       "      <td>808</td>\n",
       "      <td>None</td>\n",
       "      <td>2018-09-02 13:00:00</td>\n",
       "      <td>2018</td>\n",
       "      <td>9</td>\n",
       "      <td>Sunday</td>\n",
       "      <td>13</td>\n",
       "      <td>Part One</td>\n",
       "      <td>LINCOLN ST</td>\n",
       "      <td>42.35779134</td>\n",
       "      <td>-71.13937053</td>\n",
       "      <td>(42.35779134, -71.13937053)</td>\n",
       "    </tr>\n",
       "    <tr>\n",
       "      <th>1</th>\n",
       "      <td>I182070943</td>\n",
       "      <td>1402</td>\n",
       "      <td>Vandalism</td>\n",
       "      <td>VANDALISM</td>\n",
       "      <td>C11</td>\n",
       "      <td>347</td>\n",
       "      <td>None</td>\n",
       "      <td>2018-08-21 00:00:00</td>\n",
       "      <td>2018</td>\n",
       "      <td>8</td>\n",
       "      <td>Tuesday</td>\n",
       "      <td>0</td>\n",
       "      <td>Part Two</td>\n",
       "      <td>HECLA ST</td>\n",
       "      <td>42.30682138</td>\n",
       "      <td>-71.06030035</td>\n",
       "      <td>(42.30682138, -71.06030035)</td>\n",
       "    </tr>\n",
       "  </tbody>\n",
       "</table>\n",
       "</div>"
      ],
      "text/plain": [
       "  INCIDENT_NUMBER  OFFENSE_CODE OFFENSE_CODE_GROUP OFFENSE_DESCRIPTION  \\\n",
       "0      I182070945           619            Larceny  LARCENY ALL OTHERS   \n",
       "1      I182070943          1402          Vandalism           VANDALISM   \n",
       "\n",
       "  DISTRICT REPORTING_AREA SHOOTING     OCCURRED_ON_DATE  YEAR MONTH  \\\n",
       "0      D14            808     None  2018-09-02 13:00:00  2018     9   \n",
       "1      C11            347     None  2018-08-21 00:00:00  2018     8   \n",
       "\n",
       "  DAY_OF_WEEK HOUR  UCR_PART      STREET          Lat          Long  \\\n",
       "0      Sunday   13  Part One  LINCOLN ST  42.35779134  -71.13937053   \n",
       "1     Tuesday    0  Part Two    HECLA ST  42.30682138  -71.06030035   \n",
       "\n",
       "                      Location  \n",
       "0  (42.35779134, -71.13937053)  \n",
       "1  (42.30682138, -71.06030035)  "
      ]
     },
     "execution_count": 8,
     "metadata": {},
     "output_type": "execute_result"
    }
   ],
   "source": [
    "crime_pd.head(2) "
   ]
  },
  {
   "cell_type": "markdown",
   "id": "c84651d1",
   "metadata": {},
   "source": [
    "###\n",
    "`Deleting duplicates, getting first value before '-' literal from dataframe using spark sql`"
   ]
  },
  {
   "cell_type": "code",
   "execution_count": 10,
   "id": "0ece7afb",
   "metadata": {},
   "outputs": [
    {
     "name": "stdout",
     "output_type": "stream",
     "text": [
      "+----+--------------------+\n",
      "|CODE|                NAME|\n",
      "+----+--------------------+\n",
      "| 243|               RAPE |\n",
      "| 540|           BURGLARY |\n",
      "| 623|LARCENY SHOPLIFTI...|\n",
      "|1721|FAILURE TO REGIST...|\n",
      "|1903|           GAMBLING |\n",
      "|3704|       M/V ACCIDENT |\n",
      "| 251|               RAPE |\n",
      "|2622|KIDNAPPING/CUSTOD...|\n",
      "| 804|            STALKING|\n",
      "|2914|                VAL |\n",
      "| 322|            ROBBERY |\n",
      "| 321|            ROBBERY |\n",
      "| 362|    ROBBERY ATTEMPT |\n",
      "| 613|LARCENY SHOPLIFTI...|\n",
      "| 633|LARCENY SHOPLIFTI...|\n",
      "| 375|    ROBERRY ATTEMPT |\n",
      "|1863|              DRUGS |\n",
      "|2606|PRISONER ATTEMPT ...|\n",
      "| 211|               RAPE |\n",
      "| 530|             B&E NON|\n",
      "+----+--------------------+\n",
      "only showing top 20 rows\n",
      "\n"
     ]
    },
    {
     "name": "stderr",
     "output_type": "stream",
     "text": [
      "[Stage 13:=================================================>    (182 + 3) / 200]\r"
     ]
    },
    {
     "name": "stdout",
     "output_type": "stream",
     "text": [
      "After deleting duplicates 425 rows left\n"
     ]
    },
    {
     "name": "stderr",
     "output_type": "stream",
     "text": [
      "                                                                                \r"
     ]
    }
   ],
   "source": [
    "offense_codes_df.createOrReplaceTempView(\"offense_codes_df\")\n",
    "\n",
    "offense_codes_df = sq.sql(\"SELECT CODE, MAX(NAME) as NAME FROM OFFENSE_CODES_DF GROUP BY CODE\")\n",
    "\n",
    "offense_codes_df = offense_codes_df.withColumn(\"NAME\", split(\"NAME\", '-')[0])\n",
    "offense_codes_df.show()\n",
    "\n",
    "print(\"After deleting duplicates {0} rows left\".format(offense_codes_df.count()))"
   ]
  },
  {
   "cell_type": "markdown",
   "id": "e614b559",
   "metadata": {},
   "source": [
    "### Считаем:\n",
    "`crimes_total` - общее количество преступлений в этом районе,\n",
    "\n",
    "`crimes_monthly` - медиана числа преступлений в месяц в этом районе"
   ]
  },
  {
   "cell_type": "code",
   "execution_count": 11,
   "id": "ca5c32c5",
   "metadata": {},
   "outputs": [
    {
     "name": "stderr",
     "output_type": "stream",
     "text": [
      "[Stage 34:================================>                       (44 + 2) / 75]\r"
     ]
    },
    {
     "name": "stdout",
     "output_type": "stream",
     "text": [
      "+--------+------------+------------------+-------------------+\n",
      "|DISTRICT|crimes_total|               lat|               long|\n",
      "+--------+------------+------------------+-------------------+\n",
      "|      C6|       21196|42.214906864098275| -70.85942538777128|\n",
      "|    null|        1583|25.052216289444456|-43.146343829444454|\n",
      "|      B2|       43403| 42.31632986119104| -71.07629096717032|\n",
      "|     C11|       37298| 42.29400030603795| -71.05347358106053|\n",
      "|     E13|       15652| 42.30901127492181| -71.09714168641028|\n",
      "|      B3|       31131| 42.28245324804027|  -71.0781482850731|\n",
      "|      E5|       11876| 42.19984348527637| -71.00724221225452|\n",
      "|     A15|        5978| 42.18506794525546| -70.75409373619097|\n",
      "|      A7|       12306| 42.36280267789224| -71.00707817700783|\n",
      "|     D14|       18573|42.342901024460545|  -71.1304138899989|\n",
      "|      D4|       36755|42.341148104205345| -71.07690743408905|\n",
      "|     E18|       15746| 42.26249531265002|  -71.1189841463501|\n",
      "|      A1|       31020| 42.33064855453016| -71.01857752144764|\n",
      "+--------+------------+------------------+-------------------+\n",
      "\n"
     ]
    },
    {
     "name": "stderr",
     "output_type": "stream",
     "text": [
      "                                                                                \r"
     ]
    }
   ],
   "source": [
    "crime_df_distinct = crime_df.dropDuplicates([\"DISTRICT\", \"INCIDENT_NUMBER\",\"YEAR\", \"MONTH\", \"LAT\", \"LONG\"])\\\n",
    "                            .select([\"DISTRICT\", \"INCIDENT_NUMBER\",\"YEAR\", \"MONTH\", \"LAT\", \"LONG\"])\n",
    "\n",
    "crime_df_distinct = crime_df_distinct.withColumn(\"MONTH\", lpad(\"MONTH\",2, '0'))\n",
    "crime_df_distinct = crime_df_distinct.withColumn(\"DAY_F_DATE\", lit(\"01\"))\n",
    "crime_df_distinct = crime_df_distinct.withColumn(\"MONTH_DATE\", \\\n",
    "                                                 expr(\"make_date(YEAR, MONTH, DAY_F_DATE)\"))\n",
    "\n",
    "crimes_total_df = crime_df_distinct.groupBy(\"DISTRICT\")\\\n",
    "                                    .agg(countDistinct(\"INCIDENT_NUMBER\").alias(\"crimes_total\")\\\n",
    "                                        ,avg(\"LAT\").alias(\"lat\")\\\n",
    "                                        ,avg(\"LONG\").alias(\"long\")\\\n",
    "                                        )\n",
    "crimes_total_df.show()\n",
    "\n",
    "\n",
    "\n",
    "\n",
    "# crime_df_distinct.groupBy(\"DISTRICT\").agg(countDistinct(\"INCIDENT_NUMBER\").alias(\"crimes_total\")).show()"
   ]
  },
  {
   "cell_type": "code",
   "execution_count": 12,
   "id": "14554021",
   "metadata": {},
   "outputs": [
    {
     "name": "stderr",
     "output_type": "stream",
     "text": [
      "                                                                                \r"
     ]
    },
    {
     "name": "stdout",
     "output_type": "stream",
     "text": [
      "+--------+--------------+\n",
      "|DISTRICT|crimes_monthly|\n",
      "+--------+--------------+\n",
      "|      C6|         543.0|\n",
      "|    null|          37.5|\n",
      "|      B2|        1131.5|\n",
      "|     C11|         981.0|\n",
      "|     E13|         397.5|\n",
      "|      B3|         800.0|\n",
      "|      E5|         304.0|\n",
      "|     A15|         150.5|\n",
      "|      A7|         316.5|\n",
      "|     D14|         474.5|\n",
      "|      D4|         970.5|\n",
      "|     E18|         399.5|\n",
      "|      A1|         774.5|\n",
      "+--------+--------------+\n",
      "\n"
     ]
    },
    {
     "name": "stderr",
     "output_type": "stream",
     "text": [
      "                                                                                \r"
     ]
    }
   ],
   "source": [
    "crimes_monthly_df = crime_df_distinct.groupBy(\"DISTRICT\",\"MONTH_DATE\")\\\n",
    "                                     .agg(countDistinct(\"INCIDENT_NUMBER\")\\\n",
    "                                     .alias(\"cnt_inc\"))\n",
    "\n",
    "crimes_monthly_df = crimes_monthly_df.groupBy(\"DISTRICT\")\\\n",
    "                                     .agg(expr(\"percentile(cnt_inc, 0.5)\")\\\n",
    "                                     .alias(\"crimes_monthly\"))\n",
    "\n",
    "crimes_monthly_df.show()"
   ]
  },
  {
   "cell_type": "markdown",
   "id": "2ab275cd",
   "metadata": {},
   "source": [
    "### Подготовка freq_crimes_df  - 3 наиболее распространненых типа преступления в каждом районе"
   ]
  },
  {
   "cell_type": "code",
   "execution_count": 13,
   "id": "32f31d5d",
   "metadata": {},
   "outputs": [],
   "source": [
    "freq_crimes_df = crime_df.dropDuplicates([\"DISTRICT\", \"INCIDENT_NUMBER\",\"OFFENSE_CODE\"])\\\n",
    "                         .select([\"DISTRICT\", \"INCIDENT_NUMBER\", \"OFFENSE_CODE\"])\n",
    "\n",
    "freq_crimes_df = freq_crimes_df.join(offense_codes_df, \\\n",
    "                                     freq_crimes_df[\"offense_code\"] == offense_codes_df[\"code\"], \\\n",
    "                                     'left')\n",
    "\n",
    "freq_crimes_df = freq_crimes_df.groupBy(\"DISTRICT\", \"NAME\")\\\n",
    "                               .agg(count(\"INCIDENT_NUMBER\")\\\n",
    "                               .alias(\"CNT_BY_NAME\"))\n",
    "\n",
    "window_spec = Window.partitionBy(\"DISTRICT\").orderBy(col(\"CNT_BY_NAME\").desc())\n",
    "\n",
    "freq_crimes_df = freq_crimes_df.withColumn(\"dense_rank\",dense_rank().over(window_spec))\n",
    "\n",
    "freq_crimes_df = freq_crimes_df.filter(\"dense_rank <= 3\")\n",
    "\n",
    "freq_crimes_df = freq_crimes_df.groupby(\"DISTRICT\").agg(collect_list('NAME').alias('frequent_crime_types'))\n"
   ]
  },
  {
   "cell_type": "code",
   "execution_count": 14,
   "id": "5bdf6311",
   "metadata": {},
   "outputs": [
    {
     "name": "stderr",
     "output_type": "stream",
     "text": [
      "[Stage 81:=============================================>          (61 + 3) / 75]\r"
     ]
    },
    {
     "name": "stdout",
     "output_type": "stream",
     "text": [
      "+--------+--------------------+\n",
      "|DISTRICT|frequent_crime_types|\n",
      "+--------+--------------------+\n",
      "|      C6|[DRUGS , SICK/INJ...|\n",
      "|    null|[M/V ACCIDENT , M...|\n",
      "|      B2|[M/V , M/V ACCIDE...|\n",
      "|     C11|[M/V , SICK/INJUR...|\n",
      "|     E13|[SICK/INJURED/MED...|\n",
      "|      B3|[VERBAL DISPUTE, ...|\n",
      "|      E5|[SICK/INJURED/MED...|\n",
      "|     A15|[M/V ACCIDENT , I...|\n",
      "|      A7|[SICK/INJURED/MED...|\n",
      "|     D14|[TOWED MOTOR VEHI...|\n",
      "|      D4|[LARCENY SHOPLIFT...|\n",
      "|     E18|[SICK/INJURED/MED...|\n",
      "|      A1|[PROPERTY , ASSAU...|\n",
      "+--------+--------------------+\n",
      "\n"
     ]
    },
    {
     "name": "stderr",
     "output_type": "stream",
     "text": [
      "                                                                                \r"
     ]
    }
   ],
   "source": [
    "freq_crimes_df.show()"
   ]
  },
  {
   "cell_type": "markdown",
   "id": "986a75c2",
   "metadata": {},
   "source": [
    "### Сборка финального датасета в один датафрейм"
   ]
  },
  {
   "cell_type": "code",
   "execution_count": 15,
   "id": "8e5fbdd6",
   "metadata": {},
   "outputs": [],
   "source": [
    "crimes_total_df1 = crimes_total_df.join(crimes_monthly_df\\\n",
    "                                       ,[\"DISTRICT\"]\\\n",
    "                                       ,'inner')\n",
    "\n",
    "crimes_total_df1 = crimes_total_df1.join(freq_crimes_df\\\n",
    "                                       ,[\"DISTRICT\"]\\\n",
    "                                       ,'inner')\n"
   ]
  },
  {
   "cell_type": "code",
   "execution_count": 16,
   "id": "02317854",
   "metadata": {},
   "outputs": [
    {
     "name": "stderr",
     "output_type": "stream",
     "text": [
      "[Stage 123:=============================================>         (62 + 2) / 75]\r"
     ]
    },
    {
     "name": "stdout",
     "output_type": "stream",
     "text": [
      "+--------+------------+------------------+------------------+--------------+--------------------+\n",
      "|DISTRICT|crimes_total|               lat|              long|crimes_monthly|frequent_crime_types|\n",
      "+--------+------------+------------------+------------------+--------------+--------------------+\n",
      "|      C6|       21196|42.214906864098275|-70.85942538777128|         543.0|[DRUGS , SICK/INJ...|\n",
      "|      B2|       43403| 42.31632986119104|-71.07629096717032|        1131.5|[M/V , M/V ACCIDE...|\n",
      "|     C11|       37298| 42.29400030603795|-71.05347358106053|         981.0|[M/V , SICK/INJUR...|\n",
      "|     E13|       15652| 42.30901127492181|-71.09714168641028|         397.5|[SICK/INJURED/MED...|\n",
      "|      B3|       31131| 42.28245324804027| -71.0781482850731|         800.0|[VERBAL DISPUTE, ...|\n",
      "|      E5|       11876| 42.19984348527637|-71.00724221225452|         304.0|[SICK/INJURED/MED...|\n",
      "|     A15|        5978| 42.18506794525546|-70.75409373619097|         150.5|[M/V ACCIDENT , I...|\n",
      "|      A7|       12306| 42.36280267789224|-71.00707817700783|         316.5|[SICK/INJURED/MED...|\n",
      "|     D14|       18573|42.342901024460545| -71.1304138899989|         474.5|[TOWED MOTOR VEHI...|\n",
      "|      D4|       36755|42.341148104205345|-71.07690743408905|         970.5|[LARCENY SHOPLIFT...|\n",
      "|     E18|       15746| 42.26249531265002| -71.1189841463501|         399.5|[SICK/INJURED/MED...|\n",
      "|      A1|       31020| 42.33064855453016|-71.01857752144764|         774.5|[PROPERTY , ASSAU...|\n",
      "+--------+------------+------------------+------------------+--------------+--------------------+\n",
      "\n"
     ]
    },
    {
     "name": "stderr",
     "output_type": "stream",
     "text": [
      "                                                                                \r"
     ]
    }
   ],
   "source": [
    "crimes_total_df1.show()"
   ]
  },
  {
   "cell_type": "code",
   "execution_count": 17,
   "id": "4afb02e0",
   "metadata": {},
   "outputs": [
    {
     "name": "stderr",
     "output_type": "stream",
     "text": [
      "                                                                                \r"
     ]
    }
   ],
   "source": [
    "def write_result_parquet(df = crimes_total_df1, path = 'homework/result'):\n",
    "    path = Path(path) \n",
    "    offense_codes_df = df.repartition(1).write.mode('overwrite').parquet(str(path / \"parquet\"))\n",
    "    \n",
    "write_result_parquet()"
   ]
  },
  {
   "cell_type": "markdown",
   "id": "359a50b4",
   "metadata": {},
   "source": [
    "### Проверяем записанный паркет"
   ]
  },
  {
   "cell_type": "code",
   "execution_count": 18,
   "id": "99d184e3",
   "metadata": {},
   "outputs": [
    {
     "name": "stdout",
     "output_type": "stream",
     "text": [
      "+--------+------------+------------------+------------------+--------------+--------------------+\n",
      "|DISTRICT|crimes_total|               lat|              long|crimes_monthly|frequent_crime_types|\n",
      "+--------+------------+------------------+------------------+--------------+--------------------+\n",
      "|      C6|       21196|42.214906864098275|-70.85942538777128|         543.0|[DRUGS , SICK/INJ...|\n",
      "|      B2|       43403| 42.31632986119104|-71.07629096717032|        1131.5|[M/V , M/V ACCIDE...|\n",
      "|     C11|       37298| 42.29400030603795|-71.05347358106053|         981.0|[M/V , SICK/INJUR...|\n",
      "|     E13|       15652| 42.30901127492181|-71.09714168641028|         397.5|[SICK/INJURED/MED...|\n",
      "|      B3|       31131| 42.28245324804027| -71.0781482850731|         800.0|[VERBAL DISPUTE, ...|\n",
      "|      E5|       11876| 42.19984348527637|-71.00724221225452|         304.0|[SICK/INJURED/MED...|\n",
      "|     A15|        5978| 42.18506794525546|-70.75409373619097|         150.5|[M/V ACCIDENT , I...|\n",
      "|      A7|       12306| 42.36280267789224|-71.00707817700783|         316.5|[SICK/INJURED/MED...|\n",
      "|     D14|       18573|42.342901024460545| -71.1304138899989|         474.5|[TOWED MOTOR VEHI...|\n",
      "|      D4|       36755|42.341148104205345|-71.07690743408905|         970.5|[LARCENY SHOPLIFT...|\n",
      "|     E18|       15746| 42.26249531265002| -71.1189841463501|         399.5|[SICK/INJURED/MED...|\n",
      "|      A1|       31020| 42.33064855453016|-71.01857752144764|         774.5|[PROPERTY , ASSAU...|\n",
      "+--------+------------+------------------+------------------+--------------+--------------------+\n",
      "\n"
     ]
    }
   ],
   "source": [
    "sq.read.parquet(\"homework/result/parquet\").show()"
   ]
  }
 ],
 "metadata": {
  "kernelspec": {
   "display_name": "Python 3 (ipykernel)",
   "language": "python",
   "name": "python3"
  },
  "language_info": {
   "codemirror_mode": {
    "name": "ipython",
    "version": 3
   },
   "file_extension": ".py",
   "mimetype": "text/x-python",
   "name": "python",
   "nbconvert_exporter": "python",
   "pygments_lexer": "ipython3",
   "version": "3.7.3"
  }
 },
 "nbformat": 4,
 "nbformat_minor": 5
}
